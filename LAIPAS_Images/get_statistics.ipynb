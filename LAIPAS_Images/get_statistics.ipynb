{
 "cells": [
  {
   "cell_type": "code",
   "execution_count": 1,
   "id": "0cc742cf-94f6-410c-87e5-1228f0096ea2",
   "metadata": {},
   "outputs": [],
   "source": [
    "import os\n",
    "\n",
    "filenames = os.listdir('/data/semseg_LAIPAS/LAIPAS_Images/msks_raw/')"
   ]
  },
  {
   "cell_type": "code",
   "execution_count": 2,
   "id": "4e01d58a-1486-4473-a08c-17c0c70c61fe",
   "metadata": {},
   "outputs": [],
   "source": [
    "get_id = lambda filename: filename.split('_')[1]\n",
    "out = map(get_id,filenames)"
   ]
  },
  {
   "cell_type": "code",
   "execution_count": 3,
   "id": "1c29e224-d706-4c74-b1e8-6d480fc039d0",
   "metadata": {},
   "outputs": [],
   "source": [
    "from collections import Counter\n",
    "\n",
    "rslt = Counter([*out])"
   ]
  },
  {
   "cell_type": "code",
   "execution_count": 5,
   "id": "a7c905ac-49ea-45c3-8cc3-f9d5a61b18aa",
   "metadata": {},
   "outputs": [],
   "source": [
    "sorted_list = sorted(rslt.items())"
   ]
  },
  {
   "cell_type": "code",
   "execution_count": 6,
   "id": "7dc3360c-23cf-4335-a74f-0c8bb361f66b",
   "metadata": {},
   "outputs": [
    {
     "data": {
      "text/plain": [
       "[('11', 7),\n",
       " ('12', 5),\n",
       " ('13', 47),\n",
       " ('14', 8),\n",
       " ('15', 11),\n",
       " ('16', 4),\n",
       " ('17', 5),\n",
       " ('18', 1),\n",
       " ('2', 4),\n",
       " ('20', 2),\n",
       " ('21', 5),\n",
       " ('22', 5),\n",
       " ('23', 3),\n",
       " ('25', 14),\n",
       " ('26', 32),\n",
       " ('28', 6),\n",
       " ('29', 13),\n",
       " ('30', 4),\n",
       " ('31', 2),\n",
       " ('32', 20),\n",
       " ('33', 5),\n",
       " ('34', 12),\n",
       " ('35', 24),\n",
       " ('36', 27),\n",
       " ('38', 3),\n",
       " ('39', 3),\n",
       " ('43', 2),\n",
       " ('5', 6),\n",
       " ('6', 12),\n",
       " ('7', 1),\n",
       " ('8', 2),\n",
       " ('9', 2),\n",
       " ('99', 48)]"
      ]
     },
     "execution_count": 6,
     "metadata": {},
     "output_type": "execute_result"
    }
   ],
   "source": [
    "sorted_list"
   ]
  },
  {
   "cell_type": "code",
   "execution_count": 4,
   "id": "7cd4cb3a-6679-4e60-b4ca-37c547d0819c",
   "metadata": {},
   "outputs": [
    {
     "data": {
      "text/plain": [
       "Counter({'99': 48,\n",
       "         '13': 47,\n",
       "         '26': 32,\n",
       "         '36': 27,\n",
       "         '35': 24,\n",
       "         '32': 20,\n",
       "         '25': 14,\n",
       "         '29': 13,\n",
       "         '34': 12,\n",
       "         '6': 12,\n",
       "         '15': 11,\n",
       "         '14': 8,\n",
       "         '11': 7,\n",
       "         '5': 6,\n",
       "         '28': 6,\n",
       "         '12': 5,\n",
       "         '33': 5,\n",
       "         '17': 5,\n",
       "         '21': 5,\n",
       "         '22': 5,\n",
       "         '16': 4,\n",
       "         '2': 4,\n",
       "         '30': 4,\n",
       "         '38': 3,\n",
       "         '23': 3,\n",
       "         '39': 3,\n",
       "         '43': 2,\n",
       "         '8': 2,\n",
       "         '20': 2,\n",
       "         '31': 2,\n",
       "         '9': 2,\n",
       "         '18': 1,\n",
       "         '7': 1})"
      ]
     },
     "execution_count": 4,
     "metadata": {},
     "output_type": "execute_result"
    }
   ],
   "source": [
    "rslt"
   ]
  },
  {
   "cell_type": "code",
   "execution_count": 8,
   "id": "ad7c6299-a418-46f9-897e-9f34069d0ed2",
   "metadata": {},
   "outputs": [
    {
     "data": {
      "text/plain": [
       "820"
      ]
     },
     "execution_count": 8,
     "metadata": {},
     "output_type": "execute_result"
    }
   ],
   "source": [
    "len(os.listdir('/data/semseg_LAIPAS/LAIPAS_Images/deidentified_img/'))"
   ]
  },
  {
   "cell_type": "code",
   "execution_count": 22,
   "id": "aa4ce753-3d7a-406d-81ed-0495da9b58b4",
   "metadata": {},
   "outputs": [
    {
     "data": {
      "text/plain": [
       "345"
      ]
     },
     "execution_count": 22,
     "metadata": {},
     "output_type": "execute_result"
    }
   ],
   "source": [
    "len(all_msks)"
   ]
  },
  {
   "cell_type": "code",
   "execution_count": 37,
   "id": "70bbefc1-cfbf-4b8d-bc32-7aaf6b31a47b",
   "metadata": {},
   "outputs": [],
   "source": [
    "core_fn = lambda line: line.split('.')[0]\n",
    "train_ids =set([*map(core_fn,open('./train.txt','r').readlines())])\n",
    "val_ids = set([*map(core_fn,open('./val.txt','r').readlines())])\n",
    "ctl_ids = set([*map(core_fn,open('./ctl.txt','r').readlines())])\n",
    "# filelist = open('./train.txt','r')\n",
    "# for line in filelist.readlines():\n",
    "#     temp = line.split('.')[0]+'.png' \n",
    "#     if  not in all_msks:\n",
    "#         print(line)"
   ]
  },
  {
   "cell_type": "code",
   "execution_count": 43,
   "id": "76336a65-39b8-496d-857b-3a842ac74753",
   "metadata": {},
   "outputs": [
    {
     "data": {
      "text/plain": [
       "set()"
      ]
     },
     "execution_count": 43,
     "metadata": {},
     "output_type": "execute_result"
    }
   ],
   "source": [
    "train_ids.intersection(val_ids)"
   ]
  },
  {
   "cell_type": "code",
   "execution_count": 44,
   "id": "53a41bcb-cd05-4bd5-9cfd-90a743c51024",
   "metadata": {},
   "outputs": [
    {
     "data": {
      "text/plain": [
       "{'Subject_34_1', 'Subject_34_3', 'Subject_34_4'}"
      ]
     },
     "execution_count": 44,
     "metadata": {},
     "output_type": "execute_result"
    }
   ],
   "source": [
    "train_ids.intersection(ctl_ids)"
   ]
  },
  {
   "cell_type": "code",
   "execution_count": 45,
   "id": "60f8a173-cc62-4634-b580-a828d481b45e",
   "metadata": {},
   "outputs": [
    {
     "data": {
      "text/plain": [
       "{'Subject_36_1',\n",
       " 'Subject_36_10',\n",
       " 'Subject_36_11',\n",
       " 'Subject_36_13',\n",
       " 'Subject_36_14',\n",
       " 'Subject_36_3',\n",
       " 'Subject_36_4'}"
      ]
     },
     "execution_count": 45,
     "metadata": {},
     "output_type": "execute_result"
    }
   ],
   "source": [
    "ctl_ids.intersection(val_ids)"
   ]
  }
 ],
 "metadata": {
  "kernelspec": {
   "display_name": "Python 3 (ipykernel)",
   "language": "python",
   "name": "python3"
  },
  "language_info": {
   "codemirror_mode": {
    "name": "ipython",
    "version": 3
   },
   "file_extension": ".py",
   "mimetype": "text/x-python",
   "name": "python",
   "nbconvert_exporter": "python",
   "pygments_lexer": "ipython3",
   "version": "3.10.14"
  }
 },
 "nbformat": 4,
 "nbformat_minor": 5
}
